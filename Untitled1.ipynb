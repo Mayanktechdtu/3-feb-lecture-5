{
 "cells": [
  {
   "cell_type": "code",
   "execution_count": 6,
   "id": "70fedfb0-fc68-4632-ad42-d4375076c645",
   "metadata": {},
   "outputs": [
    {
     "name": "stdout",
     "output_type": "stream",
     "text": [
      "2\n",
      "4\n",
      "6\n",
      "8\n",
      "10\n"
     ]
    }
   ],
   "source": [
    "a=2\n",
    "while a<=11:\n",
    "    print(a)\n",
    "    a=a+2\n"
   ]
  },
  {
   "cell_type": "markdown",
   "id": "32ba2775-0f9a-46b3-8f03-a21a00076a77",
   "metadata": {},
   "source": [
    "sum up the number till some point (sumation)"
   ]
  },
  {
   "cell_type": "code",
   "execution_count": 10,
   "id": "74453167-f9e4-44af-9210-93f3b6067d1f",
   "metadata": {},
   "outputs": [
    {
     "name": "stdin",
     "output_type": "stream",
     "text": [
      "enter ur limit 5\n"
     ]
    },
    {
     "data": {
      "text/plain": [
       "15"
      ]
     },
     "execution_count": 10,
     "metadata": {},
     "output_type": "execute_result"
    }
   ],
   "source": [
    "n=int(input(\"enter ur limit\"))\n",
    "startingpoint=0\n",
    "counter=1\n",
    "while counter<=n:\n",
    "    startingpoint=startingpoint+counter\n",
    "    counter=counter+1\n",
    "startingpoint   ##doubt##\n"
   ]
  },
  {
   "cell_type": "markdown",
   "id": "014687d7-e4ef-4706-9595-7782ef849fb2",
   "metadata": {},
   "source": [
    "factorial"
   ]
  },
  {
   "cell_type": "code",
   "execution_count": 12,
   "id": "811a5fe2-4190-455b-8e05-b3043b5ab50c",
   "metadata": {},
   "outputs": [
    {
     "name": "stdin",
     "output_type": "stream",
     "text": [
      "enter num 5\n"
     ]
    },
    {
     "data": {
      "text/plain": [
       "120"
      ]
     },
     "execution_count": 12,
     "metadata": {},
     "output_type": "execute_result"
    }
   ],
   "source": [
    "b=int(input(\"enter num\"))\n",
    "factorial=1\n",
    "while b>0:\n",
    "    factorial=factorial*b\n",
    "    b=b-1 #good logic\n",
    "factorial \n",
    "    "
   ]
  },
  {
   "cell_type": "markdown",
   "id": "6e51bb18-9603-4b97-b886-25ef45568bb1",
   "metadata": {},
   "source": [
    "#fibonacci series summation of previos 2 number"
   ]
  },
  {
   "cell_type": "code",
   "execution_count": 9,
   "id": "d190f422-10f0-4155-81fc-72ae81f54799",
   "metadata": {},
   "outputs": [
    {
     "name": "stdin",
     "output_type": "stream",
     "text": [
      "enter num 10\n"
     ]
    },
    {
     "name": "stdout",
     "output_type": "stream",
     "text": [
      "0\n",
      "1\n",
      "1\n",
      "2\n",
      "3\n",
      "5\n",
      "8\n",
      "13\n",
      "21\n",
      "34\n"
     ]
    }
   ],
   "source": [
    "number=int(input(\"enter num\"))\n",
    "a,b=0,1\n",
    "counter=0\n",
    "while counter<number:\n",
    "    print(a)\n",
    "    c=a+b\n",
    "    a=b\n",
    "    b=c\n",
    "    counter=counter+1\n"
   ]
  },
  {
   "cell_type": "code",
   "execution_count": 12,
   "id": "563760c1-57ac-46d2-a702-5ac5811e0ee0",
   "metadata": {},
   "outputs": [
    {
     "name": "stdin",
     "output_type": "stream",
     "text": [
      "string shahid\n"
     ]
    },
    {
     "name": "stdout",
     "output_type": "stream",
     "text": [
      "dihahs\n"
     ]
    }
   ],
   "source": [
    "word=input(\"string\")\n",
    "reverse=\"\"\n",
    "length=len(word)\n",
    "while length>0:\n",
    "    reverse=reverse+word[length-1]\n",
    "    length=length-1\n",
    "print(reverse) #reverse using loop concept"
   ]
  },
  {
   "cell_type": "code",
   "execution_count": 13,
   "id": "881e291c-eaba-447c-9937-cd501d5c1271",
   "metadata": {},
   "outputs": [],
   "source": [
    "#table"
   ]
  },
  {
   "cell_type": "code",
   "execution_count": 15,
   "id": "b93d1cf6-5626-4048-8732-4b86632d7e88",
   "metadata": {},
   "outputs": [
    {
     "name": "stdin",
     "output_type": "stream",
     "text": [
      "enter num 10\n"
     ]
    },
    {
     "name": "stdout",
     "output_type": "stream",
     "text": [
      "0\n",
      "10\n",
      "20\n",
      "30\n",
      "40\n",
      "50\n",
      "60\n",
      "70\n",
      "80\n",
      "90\n",
      "100\n"
     ]
    }
   ],
   "source": [
    "a=int(input(\"enter num\"))\n",
    "i=0\n",
    "while i<=10:\n",
    "    c=a*i\n",
    "    print(c)\n",
    "    i=i+1\n",
    "    "
   ]
  },
  {
   "cell_type": "code",
   "execution_count": 18,
   "id": "fd265898-5c1f-4c75-a2eb-ce5c5ebc6195",
   "metadata": {},
   "outputs": [
    {
     "name": "stdin",
     "output_type": "stream",
     "text": [
      "enter num 9\n"
     ]
    },
    {
     "name": "stdout",
     "output_type": "stream",
     "text": [
      "9 * 0 = 0\n",
      "9 * 1 = 9\n",
      "9 * 2 = 18\n",
      "9 * 3 = 27\n",
      "9 * 4 = 36\n",
      "9 * 5 = 45\n",
      "9 * 6 = 54\n",
      "9 * 7 = 63\n",
      "9 * 8 = 72\n",
      "9 * 9 = 81\n",
      "9 * 10 = 90\n"
     ]
    }
   ],
   "source": [
    "a=int(input(\"enter num\"))\n",
    "i=0\n",
    "while i<=10:\n",
    "    c=(a*i)\n",
    "    print(a,\"*\",i,\"=\",c)\n",
    "    i=i+1\n",
    "    "
   ]
  },
  {
   "cell_type": "code",
   "execution_count": 21,
   "id": "ed802cb7-8667-414a-9edd-1644c54a81da",
   "metadata": {},
   "outputs": [
    {
     "name": "stdin",
     "output_type": "stream",
     "text": [
      "enter num 7\n"
     ]
    },
    {
     "name": "stdout",
     "output_type": "stream",
     "text": [
      "7 * 0 = 0\n",
      "7 * 1 = 7\n",
      "7 * 2 = 14\n",
      "7 * 3 = 21\n",
      "7 * 4 = 28\n",
      "7 * 5 = 35\n",
      "7 * 6 = 42\n",
      "7 * 7 = 49\n",
      "7 * 8 = 56\n",
      "7 * 9 = 63\n",
      "7 * 10 = 70\n"
     ]
    }
   ],
   "source": [
    "a=int(input(\"enter num\"))\n",
    "i=0 #i and counter is same staement for starting point)\n",
    "for i in range(11):\n",
    "    c=(a*i)\n",
    "    print(a,\"*\",i,\"=\",c)\n",
    "    "
   ]
  },
  {
   "cell_type": "code",
   "execution_count": 41,
   "id": "74f4b23d-c370-4993-a181-515588513b0a",
   "metadata": {},
   "outputs": [],
   "source": [
    "#comprehension list"
   ]
  },
  {
   "cell_type": "code",
   "execution_count": 33,
   "id": "30bc04b4-c4fb-44c1-9f27-05c49dae6f94",
   "metadata": {},
   "outputs": [
    {
     "data": {
      "text/plain": [
       "[1, 4, 9, 16, 16, 25]"
      ]
     },
     "execution_count": 33,
     "metadata": {},
     "output_type": "execute_result"
    }
   ],
   "source": [
    "l=[1,2,3,4,4,5] #squaring of list\n",
    "a=[]\n",
    "for i in l:\n",
    "    a.append(i**2)\n",
    "a\n",
    "\n"
   ]
  },
  {
   "cell_type": "code",
   "execution_count": 35,
   "id": "86dcd605-6ac2-459a-8216-eeda2980992a",
   "metadata": {},
   "outputs": [
    {
     "data": {
      "text/plain": [
       "[1, 4, 9, 16, 16, 25]"
      ]
     },
     "execution_count": 35,
     "metadata": {},
     "output_type": "execute_result"
    }
   ],
   "source": [
    "[i**2 for i in l] #compreensive way"
   ]
  },
  {
   "cell_type": "code",
   "execution_count": 40,
   "id": "d76b1bd6-60da-4286-9f4c-e009617fab0c",
   "metadata": {},
   "outputs": [
    {
     "data": {
      "text/plain": [
       "[2, 4, 4]"
      ]
     },
     "execution_count": 40,
     "metadata": {},
     "output_type": "execute_result"
    }
   ],
   "source": [
    "[i for i in l if i%2==0]"
   ]
  },
  {
   "cell_type": "code",
   "execution_count": 42,
   "id": "9e848617-6212-4e9b-a4f6-a47afd554f71",
   "metadata": {},
   "outputs": [],
   "source": [
    "#dict comprehension"
   ]
  },
  {
   "cell_type": "code",
   "execution_count": 46,
   "id": "f18f393f-1203-4229-b1d7-adaa44c1e2ec",
   "metadata": {},
   "outputs": [
    {
     "data": {
      "text/plain": [
       "{'k': 1, 'ss': 4}"
      ]
     },
     "execution_count": 46,
     "metadata": {},
     "output_type": "execute_result"
    }
   ],
   "source": [
    "d={\"k\":1,\"ss\":2}\n",
    "{k:v**2 for k,v in d.items()}"
   ]
  },
  {
   "cell_type": "code",
   "execution_count": 48,
   "id": "0e96f1bb-1307-4320-a38f-0e7f9dd2665e",
   "metadata": {},
   "outputs": [
    {
     "data": {
      "text/plain": [
       "{'ss': 2}"
      ]
     },
     "execution_count": 48,
     "metadata": {},
     "output_type": "execute_result"
    }
   ],
   "source": [
    "d={\"k\":1,\"ss\":2}\n",
    "{k:v for k,v in d.items() if v>1} #1st point is result last is condition"
   ]
  },
  {
   "cell_type": "code",
   "execution_count": 49,
   "id": "82966b4c-a34b-4dc3-a124-c171575c26ad",
   "metadata": {},
   "outputs": [],
   "source": [
    "#function"
   ]
  },
  {
   "cell_type": "code",
   "execution_count": 50,
   "id": "d628c407-5228-4477-a096-72f3a2f14103",
   "metadata": {},
   "outputs": [],
   "source": [
    "def test():\n",
    "    print(\"mayanj\")\n",
    "    \n",
    "    "
   ]
  },
  {
   "cell_type": "code",
   "execution_count": 52,
   "id": "180df27c-18dd-4f91-b2cf-cf082d0c77c8",
   "metadata": {},
   "outputs": [
    {
     "name": "stdout",
     "output_type": "stream",
     "text": [
      "mayanj\n"
     ]
    }
   ],
   "source": [
    "test()"
   ]
  },
  {
   "cell_type": "code",
   "execution_count": 54,
   "id": "00e82708-8e33-45df-b4c4-db4b70c929b3",
   "metadata": {},
   "outputs": [
    {
     "name": "stdout",
     "output_type": "stream",
     "text": [
      "mayanj\n"
     ]
    },
    {
     "ename": "TypeError",
     "evalue": "unsupported operand type(s) for +: 'NoneType' and 'str'",
     "output_type": "error",
     "traceback": [
      "\u001b[0;31m---------------------------------------------------------------------------\u001b[0m",
      "\u001b[0;31mTypeError\u001b[0m                                 Traceback (most recent call last)",
      "Cell \u001b[0;32mIn[54], line 1\u001b[0m\n\u001b[0;32m----> 1\u001b[0m \u001b[43mtest\u001b[49m\u001b[43m(\u001b[49m\u001b[43m)\u001b[49m\u001b[38;5;241;43m+\u001b[39;49m\u001b[38;5;124;43m\"\u001b[39;49m\u001b[38;5;124;43mshahid\u001b[39;49m\u001b[38;5;124;43m\"\u001b[39;49m \u001b[38;5;66;03m#this not work as print in none type nd u adding str to none type whic is not ossible\u001b[39;00m\n",
      "\u001b[0;31mTypeError\u001b[0m: unsupported operand type(s) for +: 'NoneType' and 'str'"
     ]
    }
   ],
   "source": [
    "test()+\"shahid\" #this not work as print in none type nd u adding str to none type whic is not ossible"
   ]
  },
  {
   "cell_type": "code",
   "execution_count": 58,
   "id": "547f825f-6ebd-43a8-a04b-dd9a22e24346",
   "metadata": {},
   "outputs": [],
   "source": [
    "def test2():\n",
    "    return\"mayank\" #this return gives str type"
   ]
  },
  {
   "cell_type": "code",
   "execution_count": 59,
   "id": "9b8bfda9-9794-491a-8019-183c8fa0bb9d",
   "metadata": {},
   "outputs": [
    {
     "data": {
      "text/plain": [
       "'mayank'"
      ]
     },
     "execution_count": 59,
     "metadata": {},
     "output_type": "execute_result"
    }
   ],
   "source": [
    "test2()"
   ]
  },
  {
   "cell_type": "code",
   "execution_count": 60,
   "id": "40eb650c-5f97-4874-b8d3-fd05957291e6",
   "metadata": {},
   "outputs": [
    {
     "data": {
      "text/plain": [
       "'mayankshahid'"
      ]
     },
     "execution_count": 60,
     "metadata": {},
     "output_type": "execute_result"
    }
   ],
   "source": [
    "test2()+\"shahid\""
   ]
  },
  {
   "cell_type": "code",
   "execution_count": 61,
   "id": "4a2e3adb-d2ea-41ce-91db-0d0e4c81a6b9",
   "metadata": {},
   "outputs": [],
   "source": [
    "def test3():\n",
    "    return\"may\",23,45.56"
   ]
  },
  {
   "cell_type": "code",
   "execution_count": 62,
   "id": "cb78d0a4-903d-42c5-9d21-18038229b39b",
   "metadata": {},
   "outputs": [
    {
     "data": {
      "text/plain": [
       "('may', 23, 45.56)"
      ]
     },
     "execution_count": 62,
     "metadata": {},
     "output_type": "execute_result"
    }
   ],
   "source": [
    "test3()"
   ]
  },
  {
   "cell_type": "code",
   "execution_count": 68,
   "id": "eba31bde-ac51-4801-9a90-85fd4bb779c9",
   "metadata": {},
   "outputs": [],
   "source": [
    "a,b,c=test3()"
   ]
  },
  {
   "cell_type": "code",
   "execution_count": 69,
   "id": "e3f09070-cc18-4741-92b1-fd2780909819",
   "metadata": {},
   "outputs": [
    {
     "data": {
      "text/plain": [
       "'may'"
      ]
     },
     "execution_count": 69,
     "metadata": {},
     "output_type": "execute_result"
    }
   ],
   "source": [
    "a"
   ]
  },
  {
   "cell_type": "code",
   "execution_count": 70,
   "id": "a8caf608-c95a-4a36-90b0-2760a350c47f",
   "metadata": {},
   "outputs": [
    {
     "data": {
      "text/plain": [
       "23"
      ]
     },
     "execution_count": 70,
     "metadata": {},
     "output_type": "execute_result"
    }
   ],
   "source": [
    "b"
   ]
  },
  {
   "cell_type": "code",
   "execution_count": 71,
   "id": "a4f5f138-0ef8-4bae-84b9-5477dcbb22d3",
   "metadata": {},
   "outputs": [
    {
     "data": {
      "text/plain": [
       "45.56"
      ]
     },
     "execution_count": 71,
     "metadata": {},
     "output_type": "execute_result"
    }
   ],
   "source": [
    "c"
   ]
  },
  {
   "cell_type": "code",
   "execution_count": 82,
   "id": "67735fa5-5fff-4253-bf97-1d039b1676b6",
   "metadata": {},
   "outputs": [],
   "source": [
    "def test4(a,b,c):#input put data\n",
    "    \"\"\" this is 3 number addition \"\"\" #this gives doc string to know wt the func. acctually do..\n",
    "    d=a+b+c\n",
    "    return d"
   ]
  },
  {
   "cell_type": "code",
   "execution_count": 80,
   "id": "c486bc44-16e6-486a-abfb-68c4a2bdbaca",
   "metadata": {},
   "outputs": [
    {
     "data": {
      "text/plain": [
       "73"
      ]
     },
     "execution_count": 80,
     "metadata": {},
     "output_type": "execute_result"
    }
   ],
   "source": [
    "test4(3,66,4)"
   ]
  },
  {
   "cell_type": "code",
   "execution_count": 78,
   "id": "a7cf860e-bcfd-454f-8cd0-9f857d3d59bd",
   "metadata": {},
   "outputs": [
    {
     "data": {
      "text/plain": [
       "'mayankshahidwhales'"
      ]
     },
     "execution_count": 78,
     "metadata": {},
     "output_type": "execute_result"
    }
   ],
   "source": [
    "test4(\"mayank\",\"shahid\",\"whales\")"
   ]
  },
  {
   "cell_type": "code",
   "execution_count": 85,
   "id": "e79d3d0c-beb5-46a9-8a26-371a322f4002",
   "metadata": {},
   "outputs": [],
   "source": [
    "def test5(a,b): #in this argument are limited\n",
    "    return a*b\n"
   ]
  },
  {
   "cell_type": "code",
   "execution_count": 87,
   "id": "8df41240-ff19-4860-9067-8cb7a188850a",
   "metadata": {},
   "outputs": [],
   "source": [
    "def test5(*args):\n",
    "    return args"
   ]
  },
  {
   "cell_type": "code",
   "execution_count": 88,
   "id": "36ea704e-ca59-4666-b396-3de89e19d447",
   "metadata": {},
   "outputs": [
    {
     "data": {
      "text/plain": [
       "()"
      ]
     },
     "execution_count": 88,
     "metadata": {},
     "output_type": "execute_result"
    }
   ],
   "source": [
    "test5()"
   ]
  },
  {
   "cell_type": "code",
   "execution_count": 90,
   "id": "75023bd0-5e27-42fb-bea4-84154274da04",
   "metadata": {},
   "outputs": [
    {
     "data": {
      "text/plain": [
       "(2, 3, 4, 45, 66, 43, 22, 87, 'mayank')"
      ]
     },
     "execution_count": 90,
     "metadata": {},
     "output_type": "execute_result"
    }
   ],
   "source": [
    "test5(2,3,4,45,66,43,22,87,\"mayank\") #now u can put soo mny arguments using args"
   ]
  },
  {
   "cell_type": "code",
   "execution_count": 92,
   "id": "dff014e9-0ff1-4a3e-b61a-9833f6fd02d5",
   "metadata": {},
   "outputs": [],
   "source": [
    "def test6(*args,a):\n",
    "    return args,a"
   ]
  },
  {
   "cell_type": "code",
   "execution_count": 93,
   "id": "da2bc91f-17ab-46e5-9cf2-020b6faa819b",
   "metadata": {},
   "outputs": [
    {
     "ename": "TypeError",
     "evalue": "test6() missing 1 required keyword-only argument: 'a'",
     "output_type": "error",
     "traceback": [
      "\u001b[0;31m---------------------------------------------------------------------------\u001b[0m",
      "\u001b[0;31mTypeError\u001b[0m                                 Traceback (most recent call last)",
      "Cell \u001b[0;32mIn[93], line 1\u001b[0m\n\u001b[0;32m----> 1\u001b[0m \u001b[43mtest6\u001b[49m\u001b[43m(\u001b[49m\u001b[38;5;241;43m2\u001b[39;49m\u001b[43m,\u001b[49m\u001b[38;5;241;43m3\u001b[39;49m\u001b[43m,\u001b[49m\u001b[38;5;241;43m4\u001b[39;49m\u001b[43m)\u001b[49m\n",
      "\u001b[0;31mTypeError\u001b[0m: test6() missing 1 required keyword-only argument: 'a'"
     ]
    }
   ],
   "source": [
    "test6(2,3,4)"
   ]
  },
  {
   "cell_type": "code",
   "execution_count": 94,
   "id": "96579edc-07cc-4103-b9a7-0bbf65b5c3b8",
   "metadata": {},
   "outputs": [
    {
     "data": {
      "text/plain": [
       "((3, 4, 5), 0)"
      ]
     },
     "execution_count": 94,
     "metadata": {},
     "output_type": "execute_result"
    }
   ],
   "source": [
    "test6(3,4,5,a=0)"
   ]
  },
  {
   "cell_type": "code",
   "execution_count": 97,
   "id": "86ad48db-a9fc-4491-b326-0335cb64da18",
   "metadata": {},
   "outputs": [],
   "source": [
    "def test7(a=0,b=9):\n",
    "    return a,b"
   ]
  },
  {
   "cell_type": "code",
   "execution_count": 100,
   "id": "31db9af6-7854-4706-a8b0-0e6ad9c00912",
   "metadata": {},
   "outputs": [
    {
     "data": {
      "text/plain": [
       "(0, 9)"
      ]
     },
     "execution_count": 100,
     "metadata": {},
     "output_type": "execute_result"
    }
   ],
   "source": [
    "test7()"
   ]
  },
  {
   "cell_type": "code",
   "execution_count": 101,
   "id": "e2a4b32b-447c-40a6-a762-3fe0d1f9b3b5",
   "metadata": {},
   "outputs": [
    {
     "data": {
      "text/plain": [
       "(23, 98)"
      ]
     },
     "execution_count": 101,
     "metadata": {},
     "output_type": "execute_result"
    }
   ],
   "source": [
    "test7(a=23,b=98)"
   ]
  },
  {
   "cell_type": "code",
   "execution_count": 107,
   "id": "8dee1a18-bb0f-4cd8-b0df-fc7884b23fbd",
   "metadata": {},
   "outputs": [],
   "source": [
    "def test8(**kwargs): #to put any arguments in form of dict\n",
    "    return kwargs"
   ]
  },
  {
   "cell_type": "code",
   "execution_count": 108,
   "id": "0038f4e9-fb33-467e-972c-5060d79890d4",
   "metadata": {},
   "outputs": [
    {
     "data": {
      "text/plain": [
       "{}"
      ]
     },
     "execution_count": 108,
     "metadata": {},
     "output_type": "execute_result"
    }
   ],
   "source": [
    "test8()"
   ]
  },
  {
   "cell_type": "code",
   "execution_count": 112,
   "id": "d7e59948-a73b-4313-b3b7-4f145eff23a6",
   "metadata": {},
   "outputs": [
    {
     "data": {
      "text/plain": [
       "{'a': 'mayank', 'b': 'shahid', 'c': 23}"
      ]
     },
     "execution_count": 112,
     "metadata": {},
     "output_type": "execute_result"
    }
   ],
   "source": [
    "test8(a=\"mayank\",b=\"shahid\",c=23)"
   ]
  },
  {
   "cell_type": "code",
   "execution_count": null,
   "id": "f7e05d6b-71cf-41aa-9207-5746ebdbd479",
   "metadata": {},
   "outputs": [],
   "source": []
  }
 ],
 "metadata": {
  "kernelspec": {
   "display_name": "Python 3 (ipykernel)",
   "language": "python",
   "name": "python3"
  },
  "language_info": {
   "codemirror_mode": {
    "name": "ipython",
    "version": 3
   },
   "file_extension": ".py",
   "mimetype": "text/x-python",
   "name": "python",
   "nbconvert_exporter": "python",
   "pygments_lexer": "ipython3",
   "version": "3.10.8"
  }
 },
 "nbformat": 4,
 "nbformat_minor": 5
}
